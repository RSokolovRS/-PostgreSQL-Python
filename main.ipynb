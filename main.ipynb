{
 "cells": [
  {
   "cell_type": "code",
   "execution_count": 2,
   "metadata": {},
   "outputs": [],
   "source": [
    "import psycopg2 \n",
    "conn = psycopg2.connect(database='CustomersDB' , user='postgres' , password='05121978')\n",
    "with conn.cursor() as cur: \n",
    "    cur.execute(\"\"\"CREATE TABLE IF NOT EXISTS Customers(\n",
    "        customer_id SERIAL PRIMARY KEY,\n",
    "        first_name VARCHAR(40) NOT NULL,\n",
    "        last_name VARCHAR(100) NOT NULL);\"\"\")\n",
    "    cur.execute(\"\"\"CREATE TABLE IF NOT EXISTS Email(\n",
    "\t    Email_id SERIAL PRIMARY KEY,\n",
    "\t    Email VARCHAR(120) NOT NULL,\n",
    "\t    customer_id INTEGER NOT NULL REFERENCES Customers(customer_id));\"\"\")\n",
    "    cur.execute(\"\"\"CREATE TABLE IF NOT EXISTS Phone_numbers(\n",
    "\t    number_id SERIAL PRIMARY KEY,\n",
    "\t    number INTEGER NOT NULL UNIQUE,\n",
    "\t    customer_id INTEGER NOT NULL REFERENCES Customers(customer_id));\"\"\")\n",
    "conn.commit() # применить все опрерации выше, зафиксировать БД.\n",
    "conn.close() # Закрыть соединение."
   ]
  },
  {
   "cell_type": "code",
   "execution_count": 3,
   "metadata": {},
   "outputs": [],
   "source": [
    "import psycopg2 \n",
    "conn = psycopg2.connect(database='CustomersDB' , user='postgres' , password='05121978')\n",
    "with conn.cursor() as cur:\n",
    "        cur.execute(\"\"\"DROP TABLE Phone_numbers\"\"\") # Удаление таблицЫ.\n",
    "conn.commit() # применить все опрерации выше, зафиксировать БД.\n",
    "conn.close() # Закрыть соединение."
   ]
  }
 ],
 "metadata": {
  "kernelspec": {
   "display_name": "Python 3",
   "language": "python",
   "name": "python3"
  },
  "language_info": {
   "codemirror_mode": {
    "name": "ipython",
    "version": 3
   },
   "file_extension": ".py",
   "mimetype": "text/x-python",
   "name": "python",
   "nbconvert_exporter": "python",
   "pygments_lexer": "ipython3",
   "version": "3.10.10"
  },
  "orig_nbformat": 4
 },
 "nbformat": 4,
 "nbformat_minor": 2
}
