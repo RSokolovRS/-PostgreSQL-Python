{
 "cells": [
  {
   "cell_type": "code",
<<<<<<< HEAD
   "execution_count": 34,
=======
   "execution_count": 3,
>>>>>>> 80071d500cdc6888e8cd6faf5eef8a08d83f5214
   "metadata": {},
   "outputs": [
    {
     "name": "stdout",
     "output_type": "stream",
     "text": [
      "Удачное подключение к CustomersDB\n"
     ]
    }
   ],
   "source": [
    "# Функия соединения с Базой Данных Postgresql.\n",
    "import psycopg2 \n",
    "def create_connection(nameDB, userDB, passwordDB):\n",
    "    connection = None\n",
    "    try: # Обработка ошибок в виде исключений.\n",
    "        connection = psycopg2.connect(\n",
    "            database=nameDB, \n",
    "            user=userDB,\n",
    "            password=passwordDB)\n",
    "        print(f'Удачное подключение к {nameDB}')\n",
    "    except ConnectionError as CE:\n",
    "        print(f'Ошибка подключения {CE}')\n",
    "    return connection\n",
    "\n",
    "connect = create_connection('CustomersDB', 'postgres', '05121978')"
   ]
  },
  {
   "cell_type": "code",
<<<<<<< HEAD
   "execution_count": 11,
=======
   "execution_count": 4,
>>>>>>> 80071d500cdc6888e8cd6faf5eef8a08d83f5214
   "metadata": {},
   "outputs": [
    {
     "name": "stdout",
     "output_type": "stream",
     "text": [
      "Таблица создана успешно!\n",
      "Таблица создана успешно!\n",
      "Таблица создана успешно!\n"
     ]
    }
   ],
   "source": [
    "# Функия создания таблиц в Базе Данных Postgresql.\n",
    "# 1. Функция, создающая структуру БД (таблицы).\n",
    "\n",
    "import psycopg2 \n",
    "def create_table(connect, query):\n",
    "    with connect.cursor() as cur:\n",
    "        try:\n",
    "            cur.execute(query)\n",
    "            print('Таблица создана успешно!')\n",
    "        except:\n",
    "            print('Ошибка')\n",
    "        finally:\n",
    "            connect.commit() # Применить изменения(закомитить).\n",
    "    #connect.close() # Закрыть соединение. \n",
    "    \n",
    "create_Customers_table = (\"\"\"CREATE TABLE IF NOT EXISTS Customers(\n",
    "        customer_id SERIAL PRIMARY KEY,\n",
    "        first_name VARCHAR(40) NOT NULL,\n",
    "        last_name VARCHAR(100) NOT NULL);\"\"\")\n",
    "\n",
    "create_Email_table = (\"\"\"CREATE TABLE IF NOT EXISTS Email(\n",
    "\t    Email_id SERIAL PRIMARY KEY,\n",
    "\t    Email VARCHAR(120) NOT NULL,\n",
    "\t    customer_id INTEGER NOT NULL REFERENCES Customers(customer_id));\"\"\")\n",
    "\n",
    "create_Phone_numbers_table = (\"\"\"CREATE TABLE IF NOT EXISTS Phone_numbers(\n",
    "\t    number_id SERIAL PRIMARY KEY,\n",
    "\t    number BIGINT NOT NULL,\n",
    "\t    customer_id INTEGER NOT NULL REFERENCES Customers(customer_id));\"\"\")        \n",
    "\n",
    "\n",
    "customers_table = create_table(connect, create_Customers_table)\n",
    "email_table = create_table(connect, create_Email_table)\n",
    "phone_numbers_table = create_table(connect, create_Phone_numbers_table)\n"
   ]
  },
  {
   "cell_type": "code",
   "execution_count": 19,
   "metadata": {},
   "outputs": [
    {
     "name": "stdout",
     "output_type": "stream",
     "text": [
      "Таблица успешно удалена.\n",
      "Таблица успешно удалена.\n",
      "Таблица успешно удалена.\n"
     ]
    }
   ],
   "source": [
    "\n",
    "import psycopg2\n",
    "def drop_table(connect, query):\n",
    "    with connect.cursor() as cur:\n",
    "        try:\n",
    "            cur.execute(query)\n",
    "            print('Таблица успешно удалена.')\n",
    "        except:\n",
    "            print('Ошибка')\n",
    "        finally:\n",
    "            connect.commit()\n",
    "\n",
    "   \n",
    "query_Phone_numbers_table = (\"\"\"DROP TABLE Phone_numbers;\"\"\")\n",
    "query_Email_table = (\"\"\"DROP TABLE Email;\"\"\")\n",
    "query_Customers_table = (\"\"\"DROP TABLE Customers;\"\"\")\n",
    "\n",
    "phone_numbers_drop = drop_table(connect, query_Phone_numbers_table)\n",
    "email_drop = drop_table(connect, query_Email_table)\n",
    "customers_drop = drop_table(connect, query_Customers_table) \n"
   ]
  },
  {
   "cell_type": "code",
<<<<<<< HEAD
   "execution_count": 35,
=======
   "execution_count": 9,
   "metadata": {},
   "outputs": [
    {
     "ename": "NameError",
     "evalue": "name 'drop_table' is not defined",
     "output_type": "error",
     "traceback": [
      "\u001b[1;31m---------------------------------------------------------------------------\u001b[0m",
      "\u001b[1;31mNameError\u001b[0m                                 Traceback (most recent call last)",
      "Cell \u001b[1;32mIn[9], line 2\u001b[0m\n\u001b[0;32m      1\u001b[0m query_Customers_table \u001b[39m=\u001b[39m (\u001b[39m\"\"\"\u001b[39m\u001b[39mDROP TABLE Customers;\u001b[39m\u001b[39m\"\"\"\u001b[39m)\n\u001b[1;32m----> 2\u001b[0m drop_table(connect, query_Customers_table) \n",
      "\u001b[1;31mNameError\u001b[0m: name 'drop_table' is not defined"
     ]
    }
   ],
   "source": [
    "query_Customers_table = (\"\"\"DROP TABLE Customers;\"\"\")\n",
    "drop_table(connect, query_Customers_table) "
   ]
  },
  {
   "cell_type": "code",
   "execution_count": 67,
>>>>>>> 80071d500cdc6888e8cd6faf5eef8a08d83f5214
   "metadata": {},
   "outputs": [
    {
     "name": "stdout",
     "output_type": "stream",
     "text": [
      "('INSERT INTO Customers(first_name, last_name) VALUES (%s, %s);', ('Roman', 'Sokolov'))\n",
      "Ошибка\n"
     ]
    }
   ],
   "source": [
    "#2. Функция, позволяющая добавить нового клиента.\n",
    "from typing import Any # специальный объект typing.Any, принимает разные значения:\n",
    "def add_customer(connect,  name_1: Any, name_2: Any)-> Any:\n",
    "    insert_query = \"\"\"INSERT INTO Customers(first_name, last_name) VALUES (%s, %s);\"\"\", (name_1, name_2,)\n",
    "    print(insert_query)\n",
    "    with connect.cursor() as cur:\n",
    "        try:\n",
    "            cur.execute(insert_query)\n",
    "            connect.commit()\n",
    "            print('Ok')\n",
    "        except:\n",
    "            print('Ошибка')\n",
    "        finally:\n",
    "            connect.close()\n",
    "\n",
    "\n",
    "add_customer(connect, 'Roman', 'Sokolov')    \n",
    "# add_cust = add_customer(connect, 'Roman', 'Sokolov')\n"
   ]
  },
  {
   "cell_type": "code",
   "execution_count": null,
   "metadata": {},
   "outputs": [],
   "source": [
    "\n",
    "# add_cust = add_customer(connect, 'Roman', 'Sokolov')\n",
    "            cur.execute(\"\"\"INSERT INTO Customers(first_name, last_name) VALUES\n",
    "            (%s, %s);\"\"\", (name_1, name_2,))\n",
    "            connect.commit()"
   ]
  }
 ],
 "metadata": {
  "kernelspec": {
   "display_name": "Python 3",
   "language": "python",
   "name": "python3"
  },
  "language_info": {
   "codemirror_mode": {
    "name": "ipython",
    "version": 3
   },
   "file_extension": ".py",
   "mimetype": "text/x-python",
   "name": "python",
   "nbconvert_exporter": "python",
   "pygments_lexer": "ipython3",
<<<<<<< HEAD
   "version": "3.8.6"
=======
   "version": "3.10.9"
>>>>>>> 80071d500cdc6888e8cd6faf5eef8a08d83f5214
  },
  "orig_nbformat": 4,
  "vscode": {
   "interpreter": {
    "hash": "a42ccb73e7d9bfdf27e036f1d2b8b681e55fc0743cc5586bc2474d4a60f4b886"
   }
  }
 },
 "nbformat": 4,
 "nbformat_minor": 2
}
