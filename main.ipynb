{
 "cells": [
  {
   "cell_type": "code",
   "execution_count": 36,
   "metadata": {},
   "outputs": [
    {
     "name": "stdout",
     "output_type": "stream",
     "text": [
      "Удачное подключение к CustomersDB\n"
     ]
    }
   ],
   "source": [
    "# Функия соединения с Базой Данных Postgresql.\n",
    "import psycopg2 \n",
    "def create_connection(nameDB, userDB, passwordDB):\n",
    "    connection = None\n",
    "    try: # Обработка ошибок в виде исключений.\n",
    "        connection = psycopg2.connect(\n",
    "            database=nameDB, \n",
    "            user=userDB,\n",
    "            password=passwordDB)\n",
    "        print(f'Удачное подключение к {nameDB}')\n",
    "    except ConnectionError as CE:\n",
    "        print(f'Ошибка подключения {CE}')\n",
    "    return connection\n",
    "\n",
    "connect = create_connection('CustomersDB', 'postgres', '05121978')"
   ]
  },
  {
   "cell_type": "code",
   "execution_count": null,
   "metadata": {},
   "outputs": [],
   "source": [
    "# Функия создания таблиц в Базе Данных Postgresql.\n",
    "import psycopg2 \n",
    "def create_table(connect, query):\n",
    "    with connect.cursor() as cur:\n",
    "        try:\n",
    "            cur.execute(query)\n",
    "            print('Таблица создана успешно!')\n",
    "        except:\n",
    "            print('Ошибка')\n",
    "        finally:\n",
    "            connect.commit() # Применить изменения(закомитить).\n",
    "    connect.close() # Закрыть соединение. \n",
    "    \n",
    "create_Customers_table = (\"\"\"CREATE TABLE IF NOT EXISTS Customers(\n",
    "        customer_id SERIAL PRIMARY KEY,\n",
    "        first_name VARCHAR(40) NOT NULL,\n",
    "        last_name VARCHAR(100) NOT NULL);\"\"\")\n",
    "\n",
    "create_Email_table = (\"\"\"CREATE TABLE IF NOT EXISTS Email(\n",
    "\t    Email_id SERIAL PRIMARY KEY,\n",
    "\t    Email VARCHAR(120) NOT NULL,\n",
    "\t    customer_id INTEGER NOT NULL REFERENCES Customers(customer_id));\"\"\")\n",
    "\n",
    "create_Phone_numbers_table = (\"\"\"CREATE TABLE IF NOT EXISTS Phone_numbers(\n",
    "\t    number_id SERIAL PRIMARY KEY,\n",
    "\t    number INTEGER NOT NULL UNIQUE,\n",
    "\t    customer_id INTEGER NOT NULL REFERENCES Customers(customer_id));\"\"\")        \n",
    "\n",
    "\n",
    "customers_table = create_table(connect, create_Customers_table)\n",
    "email_table = create_table(connect, create_Email_table)\n",
    "phone_numbers_table = create_table(connect, create_Phone_numbers_table)\n"
   ]
  },
  {
   "cell_type": "code",
   "execution_count": 37,
   "metadata": {},
   "outputs": [
    {
     "name": "stdout",
     "output_type": "stream",
     "text": [
      "Таблица успешно удалена.\n"
     ]
    }
   ],
   "source": [
    "\n",
    "import psycopg2\n",
    "def drop_table(connect, query):\n",
    "    with connect.cursor() as cur:\n",
    "        try:\n",
    "            cur.execute(query)\n",
    "            print('Таблица успешно удалена.')\n",
    "        except:\n",
    "            print('Ошибка')\n",
    "        finally:\n",
    "            connect.commit()\n",
    "\n",
    "   \n",
    "query_drop_table = (\"\"\"DROP TABLE Phone_numbers;\"\"\")\n",
    "phone_numbers_drop = drop_table(connect, query_drop_table) \n"
   ]
  },
  {
   "cell_type": "code",
   "execution_count": 3,
   "metadata": {},
   "outputs": [],
   "source": [
    "import psycopg2 \n",
    "conn = psycopg2.connect(database='CustomersDB' , user='postgres' , password='05121978')\n",
    "with conn.cursor() as cur:\n",
    "    name1 = input('Введите Имя клиента.')\n",
    "    name2 = input('Введите Фамилию клиента.')  \n",
    "    def add_customer(cursor, name: ):\n",
    "        cur.execute(\"\"\"INSERT INTO Customers(first_name, last_name) VALUES\n",
    "            (%s, %s), (name1, name2);\"\"\")\n",
    "        print(cur.fetchone())\n",
    "conn.commit() \n",
    "conn.close()"
   ]
  },
  {
   "cell_type": "code",
   "execution_count": null,
   "metadata": {},
   "outputs": [],
   "source": []
  }
 ],
 "metadata": {
  "kernelspec": {
   "display_name": "Python 3.8.6 64-bit",
   "language": "python",
   "name": "python3"
  },
  "language_info": {
   "codemirror_mode": {
    "name": "ipython",
    "version": 3
   },
   "file_extension": ".py",
   "mimetype": "text/x-python",
   "name": "python",
   "nbconvert_exporter": "python",
   "pygments_lexer": "ipython3",
   "version": "3.10.10"
  },
  "orig_nbformat": 4,
  "vscode": {
   "interpreter": {
    "hash": "6a926afa313b26ae1264fdcf81c726a97e69f6ba2ba780f6aa901948710f8d6e"
   }
  }
 },
 "nbformat": 4,
 "nbformat_minor": 2
}
